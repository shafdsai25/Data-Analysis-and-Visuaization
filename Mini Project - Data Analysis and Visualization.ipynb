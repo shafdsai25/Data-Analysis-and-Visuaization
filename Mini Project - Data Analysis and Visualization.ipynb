{
 "cells": [
  {
   "cell_type": "markdown",
   "id": "d648f5a6",
   "metadata": {
    "id": "XMvqQFs1ERE-"
   },
   "source": [
    "<table align=\"center\" width=100%>\n",
    "    <tr>\n",
    "       <td>\n",
    "            <div align=\"center\">\n",
    "                <font color=\"#21618C\" size=8px>\n",
    "                    <b> MINI PROJECT 1 - Data Analysis and Visualization <br>\n",
    "                    </b>\n",
    "                </font>\n",
    "            </div>\n",
    "        </td>\n",
    "        <td width=\"25%\">\n",
    "            <img src=\"NEW_GL_Logo.png\">\n",
    "        </td>\n",
    "    </tr>\n",
    "</table>"
   ]
  },
  {
   "cell_type": "markdown",
   "id": "7cf0a114",
   "metadata": {},
   "source": [
    "Shafeenafarheen Jageerhussain"
   ]
  },
  {
   "cell_type": "code",
   "execution_count": 1,
   "id": "e4f54178-39b5-4672-885a-7cb1d6c7bf2e",
   "metadata": {},
   "outputs": [],
   "source": [
    "#import libraries\n",
    "import numpy as np\n",
    "import pandas as pd\n",
    "import seaborn as sns\n",
    "import matplotlib.pyplot as plt\n",
    "import warnings\n",
    "warnings.filterwarnings(\"ignore\")"
   ]
  },
  {
   "cell_type": "markdown",
   "id": "a7aeef92-91cc-4735-8aec-73543d6f9fe1",
   "metadata": {},
   "source": [
    "### 1. Read the dataset 'pokemon.csv'.  "
   ]
  },
  {
   "cell_type": "code",
   "execution_count": 2,
   "id": "6ce9b382-c739-4abf-825f-9f02357c3e0d",
   "metadata": {},
   "outputs": [
    {
     "data": {
      "text/html": [
       "<div>\n",
       "<style scoped>\n",
       "    .dataframe tbody tr th:only-of-type {\n",
       "        vertical-align: middle;\n",
       "    }\n",
       "\n",
       "    .dataframe tbody tr th {\n",
       "        vertical-align: top;\n",
       "    }\n",
       "\n",
       "    .dataframe thead th {\n",
       "        text-align: right;\n",
       "    }\n",
       "</style>\n",
       "<table border=\"1\" class=\"dataframe\">\n",
       "  <thead>\n",
       "    <tr style=\"text-align: right;\">\n",
       "      <th></th>\n",
       "      <th>#</th>\n",
       "      <th>Name</th>\n",
       "      <th>Type 1</th>\n",
       "      <th>Type 2</th>\n",
       "      <th>Total</th>\n",
       "      <th>HP</th>\n",
       "      <th>Attack</th>\n",
       "      <th>Defense</th>\n",
       "      <th>Sp. Atk</th>\n",
       "      <th>Sp. Def</th>\n",
       "      <th>Speed</th>\n",
       "      <th>Generation</th>\n",
       "      <th>Legendary</th>\n",
       "    </tr>\n",
       "  </thead>\n",
       "  <tbody>\n",
       "    <tr>\n",
       "      <th>0</th>\n",
       "      <td>1</td>\n",
       "      <td>Bulbasaur</td>\n",
       "      <td>Grass</td>\n",
       "      <td>Poison</td>\n",
       "      <td>318</td>\n",
       "      <td>45</td>\n",
       "      <td>49</td>\n",
       "      <td>49</td>\n",
       "      <td>65</td>\n",
       "      <td>65</td>\n",
       "      <td>45</td>\n",
       "      <td>1</td>\n",
       "      <td>False</td>\n",
       "    </tr>\n",
       "    <tr>\n",
       "      <th>1</th>\n",
       "      <td>2</td>\n",
       "      <td>Ivysaur</td>\n",
       "      <td>Grass</td>\n",
       "      <td>Poison</td>\n",
       "      <td>405</td>\n",
       "      <td>60</td>\n",
       "      <td>62</td>\n",
       "      <td>63</td>\n",
       "      <td>80</td>\n",
       "      <td>80</td>\n",
       "      <td>60</td>\n",
       "      <td>1</td>\n",
       "      <td>False</td>\n",
       "    </tr>\n",
       "    <tr>\n",
       "      <th>2</th>\n",
       "      <td>3</td>\n",
       "      <td>Venusaur</td>\n",
       "      <td>Grass</td>\n",
       "      <td>Poison</td>\n",
       "      <td>525</td>\n",
       "      <td>80</td>\n",
       "      <td>82</td>\n",
       "      <td>83</td>\n",
       "      <td>100</td>\n",
       "      <td>100</td>\n",
       "      <td>80</td>\n",
       "      <td>1</td>\n",
       "      <td>False</td>\n",
       "    </tr>\n",
       "    <tr>\n",
       "      <th>3</th>\n",
       "      <td>3</td>\n",
       "      <td>VenusaurMega Venusaur</td>\n",
       "      <td>Grass</td>\n",
       "      <td>Poison</td>\n",
       "      <td>625</td>\n",
       "      <td>80</td>\n",
       "      <td>100</td>\n",
       "      <td>123</td>\n",
       "      <td>122</td>\n",
       "      <td>120</td>\n",
       "      <td>80</td>\n",
       "      <td>1</td>\n",
       "      <td>False</td>\n",
       "    </tr>\n",
       "    <tr>\n",
       "      <th>4</th>\n",
       "      <td>4</td>\n",
       "      <td>Charmander</td>\n",
       "      <td>Fire</td>\n",
       "      <td>NaN</td>\n",
       "      <td>309</td>\n",
       "      <td>39</td>\n",
       "      <td>52</td>\n",
       "      <td>43</td>\n",
       "      <td>60</td>\n",
       "      <td>50</td>\n",
       "      <td>65</td>\n",
       "      <td>1</td>\n",
       "      <td>False</td>\n",
       "    </tr>\n",
       "  </tbody>\n",
       "</table>\n",
       "</div>"
      ],
      "text/plain": [
       "   #                   Name Type 1  Type 2  Total  HP  Attack  Defense  \\\n",
       "0  1              Bulbasaur  Grass  Poison    318  45      49       49   \n",
       "1  2                Ivysaur  Grass  Poison    405  60      62       63   \n",
       "2  3               Venusaur  Grass  Poison    525  80      82       83   \n",
       "3  3  VenusaurMega Venusaur  Grass  Poison    625  80     100      123   \n",
       "4  4             Charmander   Fire     NaN    309  39      52       43   \n",
       "\n",
       "   Sp. Atk  Sp. Def  Speed  Generation  Legendary  \n",
       "0       65       65     45           1      False  \n",
       "1       80       80     60           1      False  \n",
       "2      100      100     80           1      False  \n",
       "3      122      120     80           1      False  \n",
       "4       60       50     65           1      False  "
      ]
     },
     "execution_count": 2,
     "metadata": {},
     "output_type": "execute_result"
    }
   ],
   "source": [
    "#Reading the dataset from the Pokemon.csv file and displaying the first 5 rows\n",
    "df_pokemon = pd.read_csv(\"m\")\n",
    "df_pokemon.head()"
   ]
  },
  {
   "cell_type": "markdown",
   "id": "e6bdd8a5-516c-4b32-94b6-eb97a283e417",
   "metadata": {},
   "source": [
    "### 2.List the columns in the dataframe.  "
   ]
  },
  {
   "cell_type": "code",
   "execution_count": 3,
   "id": "e8222a50-ed0c-4c75-b28c-e3761dfe7a48",
   "metadata": {},
   "outputs": [
    {
     "name": "stdout",
     "output_type": "stream",
     "text": [
      "Columns present in the Pokemon dataframe: ['#', 'Name', 'Type 1', 'Type 2', 'Total', 'HP', 'Attack', 'Defense', 'Sp. Atk', 'Sp. Def', 'Speed', 'Generation', 'Legendary']\n"
     ]
    }
   ],
   "source": [
    "#Displying the column names from the loaded dataset\n",
    "print(\"Columns present in the Pokemon dataframe:\",list(df_pokemon.columns))"
   ]
  },
  {
   "cell_type": "markdown",
   "id": "1a9de62e-754c-4426-ae6e-ef3097b43d6d",
   "metadata": {},
   "source": [
    "### 3.Drop the column '#'.     "
   ]
  },
  {
   "cell_type": "code",
   "execution_count": 4,
   "id": "63db2d7f-c919-4d85-8fb7-61ee6792dde4",
   "metadata": {},
   "outputs": [
    {
     "name": "stdout",
     "output_type": "stream",
     "text": [
      "Columns present in the Pokemon dataframe after dropping '#' column: ['Name', 'Type 1', 'Type 2', 'Total', 'HP', 'Attack', 'Defense', 'Sp. Atk', 'Sp. Def', 'Speed', 'Generation', 'Legendary']\n"
     ]
    }
   ],
   "source": [
    "#Dropping the column called \"#\" from the dataset\n",
    "df_pokemon_droppedCols = df_pokemon.drop(columns='#', axis ='Columns')\n",
    "print(\"Columns present in the Pokemon dataframe after dropping '#' column:\",list(df_pokemon_droppedCols.columns))"
   ]
  },
  {
   "cell_type": "markdown",
   "id": "0afe32e2-4e0a-48e8-8bec-05bb8d66919c",
   "metadata": {},
   "source": [
    "### 4.Check if the dataset has null values.   "
   ]
  },
  {
   "cell_type": "code",
   "execution_count": 5,
   "id": "6c4fb84c-0873-418a-bcf8-808d1262dd36",
   "metadata": {},
   "outputs": [
    {
     "name": "stdout",
     "output_type": "stream",
     "text": [
      "No. of null values under each feature from the provided Pokemon dataset:\n",
      " Name            0\n",
      "Type 1          0\n",
      "Type 2        386\n",
      "Total           0\n",
      "HP              0\n",
      "Attack          0\n",
      "Defense         0\n",
      "Sp. Atk         0\n",
      "Sp. Def         0\n",
      "Speed           0\n",
      "Generation      0\n",
      "Legendary       0\n",
      "dtype: int64\n",
      "\n",
      "Features with null values, along with the count: {'Type 2': 386}\n"
     ]
    }
   ],
   "source": [
    "#Computing the sum of blank valus from each features from Pokemon dataset and printing them\n",
    "df_pokemon_null_values = df_pokemon_droppedCols.isnull().sum()\n",
    "print(\"No. of null values under each feature from the provided Pokemon dataset:\\n\",df_pokemon_null_values)\n",
    "\n",
    "#Identifying the features with null values values\n",
    "#Zipping their column indices and values, to convert them into a dictionary\n",
    "df_pokemon_null_records = dict(zip(list(df_pokemon_null_values.index[df_pokemon_null_values > 0]),\n",
    "                        list(df_pokemon_null_values.values[df_pokemon_null_values > 0])))\n",
    "\n",
    "#Printing the final dictionary with the feature names that has null values\n",
    "print(\"\\nFeatures with null values, along with the count:\",df_pokemon_null_records)"
   ]
  },
  {
   "cell_type": "markdown",
   "id": "7e09affa-cbde-4457-a834-f6f752d2bf48",
   "metadata": {},
   "source": [
    "### 5.Drop the records with null values."
   ]
  },
  {
   "cell_type": "code",
   "execution_count": 6,
   "id": "545720ec-31d2-4fbb-9a53-54ab5f0ce0ba",
   "metadata": {},
   "outputs": [
    {
     "name": "stdout",
     "output_type": "stream",
     "text": [
      "No. of rows in the Pokemon datset:\n",
      "  a. after dropping the blank values: 800 \n",
      "  b. after dropping the blank values: 414\n",
      "\n",
      "Columns with null values, if any: None\n"
     ]
    }
   ],
   "source": [
    "#Dropping the rows which has blanks from the Pokemon dataset\n",
    "df_pokemon_no_null_values = df_pokemon_droppedCols.dropna()\n",
    "\n",
    "#Computing the no. of rows before and after dropping the blank values from Pokemon dataset\n",
    "print(\"No. of rows in the Pokemon datset:\\n  a. after dropping the blank values:\",df_pokemon_droppedCols.shape[0],\n",
    "      \"\\n  b. after dropping the blank values:\",df_pokemon_no_null_values.shape[0])\n",
    "\n",
    "#Ensuring if the datset still has null values or not\n",
    "df_pokemon_null_values2 = df_pokemon_no_null_values.isnull().sum()\n",
    "\n",
    "#Printing the features with null valus, if any left still\n",
    "print(\"\\nColumns with null values, if any:\",\n",
    "      \"None\" if not list(filter(lambda l1: l1 if l1>0 else \"\",list(df_pokemon_null_values2))) \n",
    "      else list(df_pokemon_null_values2.index[df_pokemon_null_values2 > 0]))"
   ]
  },
  {
   "cell_type": "markdown",
   "id": "2ce6038f-ca6f-4b75-be7c-27147ef050eb",
   "metadata": {},
   "source": [
    "### 6. Find the most frequent type of pokemon in Type 1 and Type 2.  "
   ]
  },
  {
   "cell_type": "code",
   "execution_count": 7,
   "id": "80887665-9956-4631-9912-96feb9bfd3a1",
   "metadata": {},
   "outputs": [
    {
     "name": "stdout",
     "output_type": "stream",
     "text": [
      "Most frequent type of Pokemen in Type 1 is ['Water'] and Type 2 is ['Flying']\n"
     ]
    }
   ],
   "source": [
    "#Assumption: The dataset without null values (i.e., 414 rows) are to be considered as an i/p for the below calculations\n",
    "\n",
    "#Calculating the mode (or the highest no. of frequency) of values under the \"Type 1\" and \"Type 2\" features\n",
    "df_pokemon_Type1_mode = df_pokemon_no_null_values[\"Type 1\"].mode().values\n",
    "df_pokemon_Type2_mode = df_pokemon_no_null_values[\"Type 2\"].mode().values\n",
    "\n",
    "#Printing the most frequent type of Pokemon in \"Type 1\" and \"Type 2\" features\n",
    "print(\"Most frequent type of Pokemen in Type 1 is {} and Type 2 is {}\".\n",
    "      format(df_pokemon_Type1_mode,df_pokemon_Type2_mode))"
   ]
  },
  {
   "cell_type": "markdown",
   "id": "a036ebf3-402b-4e4b-bd13-8e7536c64297",
   "metadata": {},
   "source": [
    "### 7. Find the mean defense value and attack value of the pokemons.  "
   ]
  },
  {
   "cell_type": "code",
   "execution_count": 8,
   "id": "90191589-0237-43a5-be74-4703d1a344e8",
   "metadata": {},
   "outputs": [
    {
     "name": "stdout",
     "output_type": "stream",
     "text": [
      "Mean Defence value of Pokemons is 79.68 and Attack value is 83.17\n"
     ]
    }
   ],
   "source": [
    "#Assumption: The dataset without null values (i.e., 414 rows) are to be considered as an i/p for the below calculations\n",
    "\n",
    "#Calculating the mean (or the avg.) of values under the \"Defense\" and \"Attack\" features\n",
    "df_pokemon_Defence_mean = round(df_pokemon_no_null_values[\"Defense\"].mean(),2)\n",
    "df_pokemon_Attack_mean = round(df_pokemon_no_null_values[\"Attack\"].mean(),2)\n",
    "\n",
    "#Printing the mean defence and attack values of the Pokemon dataset\n",
    "print(\"Mean Defence value of Pokemons is {0} and Attack value is {1}\".\n",
    "      format(df_pokemon_Defence_mean,df_pokemon_Attack_mean))"
   ]
  },
  {
   "cell_type": "markdown",
   "id": "ca6447a1-ce4a-44c2-bddf-e64af975d4dc",
   "metadata": {},
   "source": [
    "### 8. What is the maximum 'total' of the pokemons? List the pokemons with top 5 total. "
   ]
  },
  {
   "cell_type": "code",
   "execution_count": 9,
   "id": "07ddbaae-4e79-4007-b833-6d800ab82fa5",
   "metadata": {},
   "outputs": [
    {
     "name": "stdout",
     "output_type": "stream",
     "text": [
      "Maximum 'total' of the Pokemons: 780\n",
      "\n",
      "Pokemons with top 5 total: {'RayquazaMega Rayquaza': 780, 'MewtwoMega Mewtwo X': 780, 'GroudonPrimal Groudon': 770, 'GarchompMega Garchomp': 700, 'MetagrossMega Metagross': 700}\n"
     ]
    }
   ],
   "source": [
    "#Assumption: The dataset without null values (i.e., 414 rows) are to be considered as an i/p for the below calculations\n",
    "\n",
    "#Identifying the max value of the feature \"Total\" and printing them\n",
    "print(\"Maximum 'total' of the Pokemons:\",max(df_pokemon_no_null_values[\"Total\"]))\n",
    "\n",
    "#Identifying the pokemons with top 5 highest totals, by sorting them in desc. order and printing them\n",
    "df_pokemon_top5_total = df_pokemon_no_null_values.sort_values('Total', ascending=False).head()\n",
    "print('\\nPokemons with top 5 total:',dict(df_pokemon_top5_total[['Name','Total']].values))"
   ]
  },
  {
   "cell_type": "markdown",
   "id": "29909e13-1a82-4f2b-a2a2-f2eb4f70c455",
   "metadata": {},
   "source": [
    "### 9.How skewed are the features 'Sp. Def' and 'Sp. Atk'? Write down your inference of the same.  "
   ]
  },
  {
   "cell_type": "code",
   "execution_count": 10,
   "id": "e40f73ed-8ce4-439d-b6ef-20579e8aca6f",
   "metadata": {},
   "outputs": [
    {
     "name": "stdout",
     "output_type": "stream",
     "text": [
      "Mean, Median and Mode of 'Sp.Def' feature are 75.565, 75.0 and 31 and 'Sp.Atk' are 77.048, 70.0 and 23 respectively.\n",
      "\n",
      "Skewness of 'Sp.Def' and 'Sp.Atk' are 0.765 and 0.653 respectively.\n",
      "\n",
      "Upperbound Outliers that exist in 'Sp.Def' and 'Sp.Atk' features are [230] and [180] respectively.\n"
     ]
    },
    {
     "data": {
      "image/png": "[encoded data removed]",
      "text/plain": [
       "<Figure size 720x360 with 1 Axes>"
      ]
     },
     "metadata": {
      "needs_background": "light"
     },
     "output_type": "display_data"
    }
   ],
   "source": [
    "#Assumption: The dataset without null values (i.e., 414 rows) are to be considered as an i/p for the below calculations\n",
    "\n",
    "#Calculating the mean, median and mode of the \"Sp.Def\" and \"Sp.Atk\" features\n",
    "print(\"Mean, Median and Mode of 'Sp.Def' feature are {0}, {1} and {2} and 'Sp.Atk' are {3}, {4} and {5} respectively.\".\n",
    "      format(round(df_pokemon_no_null_values['Sp. Def'].mean(),3),\n",
    "             df_pokemon_no_null_values['Sp. Def'].median(),\n",
    "             df_pokemon_no_null_values['Sp. Def'].value_counts().tolist()[0],\n",
    "             round(df_pokemon_no_null_values['Sp. Atk'].mean(),3),\n",
    "             df_pokemon_no_null_values['Sp. Atk'].median(),\n",
    "             df_pokemon_no_null_values['Sp. Atk'].value_counts().tolist()[0]))\n",
    "\n",
    "#Calculating the skewness (or the data distribution) of the \"Sp.Def\" and \"Sp.Atk\" features\n",
    "print(\"\\nSkewness of 'Sp.Def' and 'Sp.Atk' are {0} and {1} respectively.\".\n",
    "      format(round(df_pokemon_no_null_values['Sp. Def'].skew(),3),\n",
    "      round(df_pokemon_no_null_values['Sp. Atk'].skew(),3)))\n",
    "\n",
    "#Calculating the upperbound values under the \"Sp.Def\" and \"Sp.Atk\" features\n",
    "df_pokemon_SpDef_UB = (df_pokemon_no_null_values['Sp. Def'].quantile(.75) + \n",
    "      1.5 * (df_pokemon_no_null_values['Sp. Def'].quantile(.75) - df_pokemon_no_null_values['Sp. Def'].quantile(.25)))\n",
    "df_pokemon_SpAtk_UB = (df_pokemon_no_null_values['Sp. Atk'].quantile(.75) + \n",
    "      1.5 * (df_pokemon_no_null_values['Sp. Atk'].quantile(.75) - df_pokemon_no_null_values['Sp. Atk'].quantile(.25)))\n",
    "\n",
    "#Identifying the upperbound outiers under the \"Sp.Def\" and \"Sp.Atk\" features and printing them\n",
    "df_pokemon_SpDef_UB_outlier = list(df_pokemon_no_null_values['Sp. Def'][df_pokemon_no_null_values['Sp. Def'] > \n",
    "                                                                         df_pokemon_SpDef_UB])\n",
    "df_pokemon_SpAtk_UB_outlier = list(df_pokemon_no_null_values['Sp. Atk'][df_pokemon_no_null_values['Sp. Atk'] > \n",
    "                                                                         df_pokemon_SpAtk_UB])\n",
    "print(\"\\nUpperbound Outliers that exist in 'Sp.Def' and 'Sp.Atk' features are {0} and {1} respectively.\".\n",
    "      format(df_pokemon_SpDef_UB_outlier, df_pokemon_SpAtk_UB_outlier))\n",
    "\n",
    "#Displaying the 'Sp.Def' and 'Sp.Atk' features from the dataset using the boxplot visual to highlight the outlier\n",
    "fig = plt.figure(figsize =(10, 5))\n",
    "ax = fig.add_axes([0, 0, 1, 1])\n",
    "ax.boxplot([df_pokemon_no_null_values[\"Sp. Def\"],df_pokemon_no_null_values[\"Sp. Atk\"]])\n",
    "plt.show()"
   ]
  },
  {
   "cell_type": "markdown",
   "id": "b7588e7f",
   "metadata": {},
   "source": [
    "### Inferences on skewness observed in Pokemon's \"Defence\" and \"Attack\" feature:\n",
    "<br>1. The <b>Mean</b> of \"Sp.Def\" and \"Sp.Attack\" features are 75.565 and 77.048, the <b>Median</b> are 75 and 70 and <b>Mode</b> are 31 (i.e., 80) and 23 (i.e., 65) times respectively.\n",
    "<br><br>2. As the Mean > Median > Mode (<i>Sp.Def: 75.565 > 75 > 31; Sp.Atk: 77.048 > 70 > 23</i>) and with reference to the above identified sknewss data - i.e., 0.765 and 0.653 of the Sp.Def and Sp.Atk features respectively, it is understood that they are <b>positively or right skewed</b>. Hence, the right tail of the distribution is longer than the left.\n",
    "<br><br>3. In addition, as the sknewss value ranges between 0.5 and 1, they are <b>moderately (but not highly) skewed.</b>\n",
    "<br><br>4. The values for \"Sp.Def\" feature of pokemons has <b>1 upperbound outlier</b> (i.e., Shuckle - 230), as it is greater than 154.375 (i.e., Q3 + 1.5 * IQR).\n",
    "<br><br>5. The values for \"Sp.Atk\" feature of pokemons also has <b>1 upperbound outlier</b> (i.e., RayquazaMega Rayquaza - 180), as it is greater than 175 (i.e., Q3 + 1.5 * IQR).\n",
    "<br><br>6. The Standard Deviation (SD) and Coefficient of Variation (CV) of Sp.Def (SD: 27.95; CV: 36.98%) feature is less than that of Sp.Atk (SD: 33.81; CV: 43.87%). It denotes that the <b>Sp.Def feature's data are less spread than Sp.Atk</b>. Since, the CV is greater than 30 for both the features, it is generally considered <b>unacceptable</b>."
   ]
  },
  {
   "cell_type": "markdown",
   "id": "04baf927-b537-4d32-ad87-82f59788f1e5",
   "metadata": {},
   "source": [
    "### 10.Plot a histogram for the feature 'Speed'. What are your inferences from the same? "
   ]
  },
  {
   "cell_type": "code",
   "execution_count": 11,
   "id": "e9516802-7da0-4bbd-b83e-443e3fbb7fe5",
   "metadata": {},
   "outputs": [
    {
     "data": {
      "image/png": "[encoded data removed]",
      "text/plain": [
       "<Figure size 1080x576 with 1 Axes>"
      ]
     },
     "metadata": {
      "needs_background": "light"
     },
     "output_type": "display_data"
    },
    {
     "name": "stdout",
     "output_type": "stream",
     "text": [
      "Mean, Median and Mode of 'Speed' feature are 70.514, 70.0 and 27 respectively.\n",
      "\n",
      "Upperbound Outliers that exist in 'Speed' feature is [160]\n"
     ]
    },
    {
     "data": {
      "image/png": "[encoded data removed]",
      "text/plain": [
       "<Figure size 432x288 with 1 Axes>"
      ]
     },
     "metadata": {
      "needs_background": "light"
     },
     "output_type": "display_data"
    }
   ],
   "source": [
    "#Assumption: The dataset without null values (i.e., 414 rows) are to be considered as an i/p for the below calculations\n",
    "\n",
    "#Setting the size of the visual / figure\n",
    "plt.figure(figsize = (15,8))\n",
    "\n",
    "#Plotting the range and frequency of each pokemon's speed in the form of histogram\n",
    "sns.histplot(df_pokemon_no_null_values['Speed'],kde=True,bins=20)\n",
    "\n",
    "#Setting up the title and labels of the visual\n",
    "plt.title('Histogram for the Speed feature', fontsize = 15)\n",
    "plt.xlabel('Speed of pokemon', fontsize = 15)\n",
    "plt.ylabel('Frequency', fontsize = 15)\n",
    "\n",
    "#Displaying the visual\n",
    "plt.show()\n",
    "\n",
    "#Calculating the mean, median and mode of the \"Speed\" feature\n",
    "print(\"Mean, Median and Mode of 'Speed' feature are {0}, {1} and {2} respectively.\".\n",
    "      format(round(df_pokemon_no_null_values['Speed'].mean(),3),\n",
    "             df_pokemon_no_null_values['Speed'].median(),\n",
    "             df_pokemon_no_null_values['Speed'].value_counts().tolist()[0]))\n",
    "\n",
    "#Calculating the upperbound values under the \"Speed\" feature\n",
    "df_pokemon_Speed_UB = (df_pokemon_no_null_values['Speed'].quantile(.75) + \n",
    "      1.5 * (df_pokemon_no_null_values['Speed'].quantile(.75) - df_pokemon_no_null_values['Speed'].quantile(.25)))\n",
    "\n",
    "#Identifying the upperbound outiers under the \"Speed\" features and printing them\n",
    "df_pokemon_Speed_UB_outlier = list(df_pokemon_no_null_values['Speed'][df_pokemon_no_null_values['Speed'] > \n",
    "                                                                         df_pokemon_Speed_UB])\n",
    "print(\"\\nUpperbound Outliers that exist in 'Speed' feature is\",df_pokemon_Speed_UB_outlier)\n",
    "\n",
    "#Displaying the 'Speed' feature from the dataset using the boxplot visual to highlight the outlier\n",
    "sns.boxplot(y=df_pokemon_no_null_values[\"Speed\"])\n",
    "plt.show()"
   ]
  },
  {
   "cell_type": "markdown",
   "id": "bcaf88f4",
   "metadata": {},
   "source": [
    "#### Inferences on the Pokemon's \"Speed\" feature from the Histogram:\n",
    "<br>1. Minimum speed of pokemon is 5 (for Shuckle) and the max is 160 (for Ninjask)\n",
    "<br><br>2. Speed of majority of the pokemons are between 60 and 80, as it is rightly denoted by the <b>Mean (i.e., 70.514)</b>\n",
    "<br><br>3. Speed of pokemons has <b>1 upperbound outlier</b> (i.e., Ninjask - 160), as it is greater than 152.5 (i.e., Q3 + 1.5 * IQR).\n",
    "<br><br>4. As the <b>Mean > Median > Mode</b> (i.e., 70.514 > 70 > 27), the data are positively or right-skewed and has longer right tail distribution.\n",
    "<br><br>5. The data looks <b>fairly symmetrical</b> as the skewness (0.209) is between the range of -0.5 to 0.5."
   ]
  }
 ],
 "metadata": {
  "kernelspec": {
   "display_name": "Python 3 (ipykernel)",
   "language": "python",
   "name": "python3"
  },
  "language_info": {
   "codemirror_mode": {
    "name": "ipython",
    "version": 3
   },
   "file_extension": ".py",
   "mimetype": "text/x-python",
   "name": "python",
   "nbconvert_exporter": "python",
   "pygments_lexer": "ipython3",
   "version": "3.9.12"
  }
 },
 "nbformat": 4,
 "nbformat_minor": 5
}
